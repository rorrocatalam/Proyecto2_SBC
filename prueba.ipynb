{
 "cells": [
  {
   "cell_type": "code",
   "execution_count": 1,
   "metadata": {},
   "outputs": [],
   "source": [
    "from modelo import *\n",
    "from definiciones import *"
   ]
  },
  {
   "cell_type": "code",
   "execution_count": 2,
   "metadata": {},
   "outputs": [
    {
     "name": "stdout",
     "output_type": "stream",
     "text": [
      "['animal es mamífero', 'animal es carnívoro', 'animal tiene manchas oscuras']\n",
      "[0.95, 0.95, 0.95]\n",
      "False\n",
      "True\n"
     ]
    }
   ],
   "source": [
    "# Base de hechos de prueba (Contiene informacion necesaria para regla 12)\n",
    "FB = FactBase()\n",
    "FB.add_fact(Fact([\"animal es mamífero\"], 0.95))\n",
    "FB.add_fact(Fact([\"animal es carnívoro\"], 0.95))\n",
    "FB.add_fact(Fact([\"animal tiene manchas oscuras\"], 0.95))\n",
    "\n",
    "print(FB.list_trip)\n",
    "print(FB.list_vc)\n",
    "\n",
    "print(R1.is_evaluable(FB))\n",
    "print(R12.is_evaluable(FB))"
   ]
  },
  {
   "cell_type": "code",
   "execution_count": 3,
   "metadata": {},
   "outputs": [
    {
     "data": {
      "text/plain": [
       "[<modelo.Rule at 0x213079d8170>,\n",
       " <modelo.Rule at 0x213079d81a0>,\n",
       " <modelo.Rule at 0x213079d81d0>,\n",
       " <modelo.Rule at 0x213079d8290>]"
      ]
     },
     "execution_count": 3,
     "metadata": {},
     "output_type": "execute_result"
    }
   ],
   "source": [
    "RB.trip_in_con(\"animal es mamífero\")"
   ]
  }
 ],
 "metadata": {
  "kernelspec": {
   "display_name": "Python 3",
   "language": "python",
   "name": "python3"
  },
  "language_info": {
   "codemirror_mode": {
    "name": "ipython",
    "version": 3
   },
   "file_extension": ".py",
   "mimetype": "text/x-python",
   "name": "python",
   "nbconvert_exporter": "python",
   "pygments_lexer": "ipython3",
   "version": "3.12.3"
  }
 },
 "nbformat": 4,
 "nbformat_minor": 2
}
