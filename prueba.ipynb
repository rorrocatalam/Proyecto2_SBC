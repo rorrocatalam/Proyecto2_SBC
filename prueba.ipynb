{
 "cells": [
  {
   "cell_type": "code",
   "execution_count": 1,
   "metadata": {},
   "outputs": [],
   "source": [
    "from modelo import *\n",
    "from definiciones import *"
   ]
  },
  {
   "cell_type": "code",
   "execution_count": 13,
   "metadata": {},
   "outputs": [
    {
     "name": "stdout",
     "output_type": "stream",
     "text": [
      "['animal es mamífero', 'animal es carnívoro', 'animal tiene manchas oscuras']\n",
      "[0.95, 0.95, 0.95]\n",
      "False\n",
      "True\n"
     ]
    }
   ],
   "source": [
    "# Base de hechos de prueba (Contiene informacion necesaria para regla 12)\n",
    "BDH = BaseDeHechos()\n",
    "BDH.agregar_hecho(Hecho([\"animal es mamífero\"], 0.95))\n",
    "BDH.agregar_hecho(Hecho([\"animal es carnívoro\"], 0.95))\n",
    "BDH.agregar_hecho(Hecho([\"animal tiene manchas oscuras\"], 0.95))\n",
    "\n",
    "print(BDH.lista_trip)\n",
    "print(BDH.lista_vc)\n",
    "\n",
    "print(R1.es_evaluable(BDH))\n",
    "print(R12.es_evaluable(BDH))"
   ]
  }
 ],
 "metadata": {
  "kernelspec": {
   "display_name": "Python 3",
   "language": "python",
   "name": "python3"
  },
  "language_info": {
   "codemirror_mode": {
    "name": "ipython",
    "version": 3
   },
   "file_extension": ".py",
   "mimetype": "text/x-python",
   "name": "python",
   "nbconvert_exporter": "python",
   "pygments_lexer": "ipython3",
   "version": "3.12.3"
  }
 },
 "nbformat": 4,
 "nbformat_minor": 2
}
