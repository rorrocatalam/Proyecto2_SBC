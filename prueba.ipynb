{
 "cells": [
  {
   "cell_type": "code",
   "execution_count": 1,
   "metadata": {},
   "outputs": [],
   "source": [
    "from modelo import *\n",
    "from definiciones import *"
   ]
  },
  {
   "cell_type": "code",
   "execution_count": 2,
   "metadata": {},
   "outputs": [
    {
     "name": "stdout",
     "output_type": "stream",
     "text": [
      "['animal es mamífero', 'animal es carnívoro', 'animal tiene manchas oscuras']\n",
      "[0.95, 0.95, 0.95]\n",
      "False\n",
      "True\n"
     ]
    }
   ],
   "source": [
    "# Base de hechos de prueba (Contiene informacion necesaria para regla 12)\n",
    "FB = FactBase()\n",
    "FB.add_fact(Fact([\"animal es mamífero\"], 0.95))\n",
    "FB.add_fact(Fact([\"animal es carnívoro\"], 0.95))\n",
    "FB.add_fact(Fact([\"animal tiene manchas oscuras\"], 0.95))\n",
    "\n",
    "print(FB.list_trip)\n",
    "print(FB.list_vc)\n",
    "\n",
    "print(R1.is_evaluable(FB))\n",
    "print(R12.is_evaluable(FB))"
   ]
  },
  {
   "cell_type": "code",
   "execution_count": 3,
   "metadata": {},
   "outputs": [
    {
     "data": {
      "text/plain": [
       "True"
      ]
     },
     "execution_count": 3,
     "metadata": {},
     "output_type": "execute_result"
    }
   ],
   "source": [
    "FB.is_in(\"animal es mamífero\")"
   ]
  },
  {
   "cell_type": "code",
   "execution_count": 4,
   "metadata": {},
   "outputs": [
    {
     "name": "stdout",
     "output_type": "stream",
     "text": [
      "Favor ingresar un número entero entre -1 y 1.\n"
     ]
    },
    {
     "data": {
      "text/plain": [
       "0.0"
      ]
     },
     "execution_count": 4,
     "metadata": {},
     "output_type": "execute_result"
    }
   ],
   "source": [
    "x = Fact([\"animal es mamífero\"], 0)\n",
    "y = Fact([\"animal es perro\"], 0)\n",
    "z = Fact([\"animal da leche\"], 0)\n",
    "z.evaluate(FB, RB)"
   ]
  },
  {
   "cell_type": "code",
   "execution_count": 10,
   "metadata": {},
   "outputs": [
    {
     "data": {
      "text/plain": [
       "['animal pone huevos', 'animal puede volar']"
      ]
     },
     "execution_count": 10,
     "metadata": {},
     "output_type": "execute_result"
    }
   ],
   "source": [
    "Fact([\"animal es reptil\"], 0).evaluate(FB, RB)[3].prem"
   ]
  }
 ],
 "metadata": {
  "kernelspec": {
   "display_name": "Python 3",
   "language": "python",
   "name": "python3"
  },
  "language_info": {
   "codemirror_mode": {
    "name": "ipython",
    "version": 3
   },
   "file_extension": ".py",
   "mimetype": "text/x-python",
   "name": "python",
   "nbconvert_exporter": "python",
   "pygments_lexer": "ipython3",
   "version": "3.12.3"
  }
 },
 "nbformat": 4,
 "nbformat_minor": 2
}
