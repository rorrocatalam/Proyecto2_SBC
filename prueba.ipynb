{
 "cells": [
  {
   "cell_type": "code",
   "execution_count": 8,
   "metadata": {},
   "outputs": [],
   "source": [
    "class Regla:\n",
    "    def __init__(self, prem, con, vc):\n",
    "        self.prem = prem\n",
    "        self.con = con\n",
    "        self.vc = vc\n",
    "\n",
    "class Hipotesis:\n",
    "    def __init__(self, prem, vc):\n",
    "        self.prem = prem\n",
    "        self.vc = vc"
   ]
  },
  {
   "cell_type": "code",
   "execution_count": 9,
   "metadata": {},
   "outputs": [],
   "source": [
    "H1  = Hipotesis([\"animal es perro\"], 0.0)\n",
    "H2  = Hipotesis([\"animal es cheetah\"], 0.0)\n",
    "H3  = Hipotesis([\"animal es tigre\"], 0.0)\n",
    "H4  = Hipotesis([\"animal es elefante\"], 0.0)\n",
    "H5  = Hipotesis([\"animal es jirafa\"], 0.0)\n",
    "H6  = Hipotesis([\"animal es cebra\"], 0.0)\n",
    "H7  = Hipotesis([\"animal es murciélago\"], 0.0)\n",
    "H8  = Hipotesis([\"animal es tortuga\"], 0.0)\n",
    "H9  = Hipotesis([\"animal es avestruz\"], 0.0)\n",
    "H10 = Hipotesis([\"animal es gaviota\"], 0.0)\n",
    "H11 = Hipotesis([\"animal es loro\"], 0.0)"
   ]
  },
  {
   "cell_type": "code",
   "execution_count": 2,
   "metadata": {},
   "outputs": [],
   "source": [
    "R1 = Regla([\"animal da leche\"], [\"animal es mamífero\", \"animal es ave\", \"animal es reptil\"], [1.0, -1.0, -1.0])"
   ]
  },
  {
   "cell_type": "code",
   "execution_count": 5,
   "metadata": {},
   "outputs": [
    {
     "data": {
      "text/plain": [
       "[1.0, -1.0, -1.0]"
      ]
     },
     "execution_count": 5,
     "metadata": {},
     "output_type": "execute_result"
    }
   ],
   "source": [
    "R1."
   ]
  }
 ],
 "metadata": {
  "kernelspec": {
   "display_name": "Python 3",
   "language": "python",
   "name": "python3"
  },
  "language_info": {
   "codemirror_mode": {
    "name": "ipython",
    "version": 3
   },
   "file_extension": ".py",
   "mimetype": "text/x-python",
   "name": "python",
   "nbconvert_exporter": "python",
   "pygments_lexer": "ipython3",
   "version": "3.12.3"
  }
 },
 "nbformat": 4,
 "nbformat_minor": 2
}
