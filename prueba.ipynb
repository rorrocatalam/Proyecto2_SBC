{
 "cells": [
  {
   "cell_type": "code",
   "execution_count": 1,
   "metadata": {},
   "outputs": [],
   "source": [
    "from definiciones import *"
   ]
  },
  {
   "cell_type": "code",
   "execution_count": 2,
   "metadata": {},
   "outputs": [
    {
     "name": "stdout",
     "output_type": "stream",
     "text": [
      "['animal es mamífero', 'animal es carnívoro', 'animal tiene manchas oscuras']\n",
      "[0.95, 0.95, 0.95]\n",
      "animal es mamífero: 0.95\n",
      "animal es carnívoro: 0.95\n",
      "animal tiene manchas oscuras: 0.95\n"
     ]
    }
   ],
   "source": [
    "# Base de hechos\n",
    "FB= FactBase()\n",
    "\n",
    "# Base de hechos de prueba (Contiene informacion necesaria para regla 12)\n",
    "FB1 = FactBase()\n",
    "FB1.add_mod_fact(Fact(\"animal es mamífero\", 0.95))\n",
    "FB1.add_mod_fact(Fact(\"animal es carnívoro\", 0.95))\n",
    "FB1.add_mod_fact(Fact(\"animal tiene manchas oscuras\", 0.95))\n",
    "\n",
    "print(FB1.list_prem)\n",
    "print(FB1.list_vc)\n",
    "# \n",
    "FB1.print_info()"
   ]
  },
  {
   "cell_type": "code",
   "execution_count": 5,
   "metadata": {},
   "outputs": [],
   "source": [
    "R1.evaluate(FB, RB, \"animal es mamífero\")"
   ]
  },
  {
   "cell_type": "code",
   "execution_count": 4,
   "metadata": {},
   "outputs": [
    {
     "data": {
      "text/plain": [
       "0.855"
      ]
     },
     "execution_count": 4,
     "metadata": {},
     "output_type": "execute_result"
    }
   ],
   "source": [
    "R12.evaluate(FB1, RB, \"animal es cheetah\")"
   ]
  },
  {
   "cell_type": "code",
   "execution_count": null,
   "metadata": {},
   "outputs": [],
   "source": [
    "FB.print_info()"
   ]
  }
 ],
 "metadata": {
  "kernelspec": {
   "display_name": "Python 3",
   "language": "python",
   "name": "python3"
  },
  "language_info": {
   "codemirror_mode": {
    "name": "ipython",
    "version": 3
   },
   "file_extension": ".py",
   "mimetype": "text/x-python",
   "name": "python",
   "nbconvert_exporter": "python",
   "pygments_lexer": "ipython3",
   "version": "3.12.3"
  }
 },
 "nbformat": 4,
 "nbformat_minor": 2
}
