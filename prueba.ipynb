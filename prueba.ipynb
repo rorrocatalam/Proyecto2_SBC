{
 "cells": [
  {
   "cell_type": "code",
   "execution_count": 1,
   "metadata": {},
   "outputs": [
    {
     "name": "stdout",
     "output_type": "stream",
     "text": [
      "Su animal es jirafa con certeza 0.75.\n"
     ]
    }
   ],
   "source": [
    "from sbc import *"
   ]
  },
  {
   "cell_type": "code",
   "execution_count": 2,
   "metadata": {},
   "outputs": [
    {
     "name": "stdout",
     "output_type": "stream",
     "text": [
      "animal es perro: -0.72\n",
      "animal es cheetah: -0.72\n",
      "animal es tigre: -0.68\n",
      "animal es elefante: 0.68\n",
      "animal es jirafa: 0.75\n",
      "animal es cebra: 0.0\n",
      "animal es murciélago: 0.0\n",
      "animal es tortuga: 0.0\n",
      "animal es avestruz: 0.0\n",
      "animal es gaviota: 0.0\n",
      "animal es loro: 0.0\n"
     ]
    }
   ],
   "source": [
    "HS.print_info()"
   ]
  }
 ],
 "metadata": {
  "kernelspec": {
   "display_name": "Python 3",
   "language": "python",
   "name": "python3"
  },
  "language_info": {
   "codemirror_mode": {
    "name": "ipython",
    "version": 3
   },
   "file_extension": ".py",
   "mimetype": "text/x-python",
   "name": "python",
   "nbconvert_exporter": "python",
   "pygments_lexer": "ipython3",
   "version": "3.12.4"
  }
 },
 "nbformat": 4,
 "nbformat_minor": 2
}
