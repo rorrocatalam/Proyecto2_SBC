{
 "cells": [
  {
   "cell_type": "code",
   "execution_count": 1,
   "metadata": {},
   "outputs": [
    {
     "name": "stdout",
     "output_type": "stream",
     "text": [
      "Favor ingresar un número entero entre -1 y 1.\n",
      "Su animal es murciélago con certeza 0.9.\n"
     ]
    }
   ],
   "source": [
    "from sbc import *"
   ]
  },
  {
   "cell_type": "code",
   "execution_count": 2,
   "metadata": {},
   "outputs": [
    {
     "name": "stdout",
     "output_type": "stream",
     "text": [
      "animal da leche: 1.0\n",
      "animal es mamífero: 1.0\n",
      "animal es ave: -1.0\n",
      "animal es reptil: -1.0\n",
      "animal es grande: 1.0\n",
      "animal es rumiante: 1.0\n",
      "animal es ungulado: 0.75\n",
      "animal tiene pezuñas: 1.0\n",
      "animal tiene trompa: 1.0\n",
      "animal es elefante: 0.675\n"
     ]
    }
   ],
   "source": [
    "FB.print_info()"
   ]
  },
  {
   "cell_type": "code",
   "execution_count": 2,
   "metadata": {},
   "outputs": [
    {
     "name": "stdout",
     "output_type": "stream",
     "text": [
      "['animal es mamífero', 'animal es carnívoro', 'animal tiene manchas oscuras']\n",
      "[0.95, 0.95, 0.95]\n",
      "animal es mamífero: 0.95\n",
      "animal es carnívoro: 0.95\n",
      "animal tiene manchas oscuras: 0.95\n"
     ]
    }
   ],
   "source": [
    "# Base de hechos\n",
    "FB= FactBase()\n",
    "\n",
    "# Base de hechos de prueba (Contiene informacion necesaria para regla 12)\n",
    "FB1 = FactBase()\n",
    "FB1.add_mod_fact(Fact(\"animal es mamífero\", 0.95))\n",
    "FB1.add_mod_fact(Fact(\"animal es carnívoro\", 0.95))\n",
    "FB1.add_mod_fact(Fact(\"animal tiene manchas oscuras\", 0.95))\n",
    "\n",
    "print(FB1.list_prem)\n",
    "print(FB1.list_vc)\n",
    "\n",
    "FB1.print_info()"
   ]
  },
  {
   "cell_type": "code",
   "execution_count": 3,
   "metadata": {},
   "outputs": [
    {
     "data": {
      "text/plain": [
       "0.63"
      ]
     },
     "execution_count": 3,
     "metadata": {},
     "output_type": "execute_result"
    }
   ],
   "source": [
    "H1.hypothesis(FB,RB, HS)"
   ]
  },
  {
   "cell_type": "code",
   "execution_count": 4,
   "metadata": {},
   "outputs": [
    {
     "name": "stdout",
     "output_type": "stream",
     "text": [
      "animal da leche: 0.7\n",
      "animal es mamífero: 0.7\n",
      "animal es ave: -0.7\n",
      "animal es reptil: -0.7\n",
      "animal tiene pelo: 1.0\n",
      "animal pone huevos: -1.0\n",
      "animal tiene piel dura: 0.0\n",
      "animal tiene plumas: -1.0\n",
      "animal tiene garras: 1.0\n",
      "animal es carnívoro: 0.8\n",
      "animal come carne: 0.7\n",
      "animal vive con personas: 1.0\n",
      "animal es doméstico: 0.9\n",
      "animal es perro: 0.63\n"
     ]
    }
   ],
   "source": [
    "FB.print_info()"
   ]
  },
  {
   "cell_type": "code",
   "execution_count": 3,
   "metadata": {},
   "outputs": [
    {
     "name": "stdout",
     "output_type": "stream",
     "text": [
      "Favor ingresar un número entero entre -1 y 1.\n",
      "Favor ingresar un número entero entre -1 y 1.\n",
      "Favor ingresar un número entero entre -1 y 1.\n",
      "Favor ingresar un número entero entre -1 y 1.\n",
      "Favor ingresar un número entero entre -1 y 1.\n"
     ]
    },
    {
     "data": {
      "text/plain": [
       "-0.5"
      ]
     },
     "execution_count": 3,
     "metadata": {},
     "output_type": "execute_result"
    }
   ],
   "source": [
    "R1.evaluate(FB, RB, \"animal es mamífero\")"
   ]
  },
  {
   "cell_type": "code",
   "execution_count": 4,
   "metadata": {},
   "outputs": [
    {
     "name": "stdout",
     "output_type": "stream",
     "text": [
      "animal da leche: -0.5\n",
      "animal es mamífero: -0.5\n",
      "animal es ave: 0.5\n",
      "animal es reptil: 0.5\n"
     ]
    }
   ],
   "source": [
    "FB.print_info()"
   ]
  },
  {
   "cell_type": "code",
   "execution_count": 5,
   "metadata": {},
   "outputs": [
    {
     "data": {
      "text/plain": [
       "0.855"
      ]
     },
     "execution_count": 5,
     "metadata": {},
     "output_type": "execute_result"
    }
   ],
   "source": [
    "R12.evaluate(FB1, RB, \"animal es cheetah\")"
   ]
  }
 ],
 "metadata": {
  "kernelspec": {
   "display_name": "Python 3",
   "language": "python",
   "name": "python3"
  },
  "language_info": {
   "codemirror_mode": {
    "name": "ipython",
    "version": 3
   },
   "file_extension": ".py",
   "mimetype": "text/x-python",
   "name": "python",
   "nbconvert_exporter": "python",
   "pygments_lexer": "ipython3",
   "version": "3.12.3"
  }
 },
 "nbformat": 4,
 "nbformat_minor": 2
}
